{
 "cells": [
  {
   "cell_type": "code",
   "execution_count": 1,
   "metadata": {},
   "outputs": [],
   "source": [
    "from langchain_community.document_loaders import UnstructuredURLLoader\n",
    "\n",
    "urls = [\n",
    "    \"https://www.cnbc.com/2024/03/14/morgan-stanley-names-head-of-artificial-intelligence-jeff-mcmillan.html\",\n",
    "    \"https://www.cnbc.com/2024/03/14/hsbc-is-very-positive-about-the-future-of-chinas-economy-cfo-says.html\",\n",
    "]\n",
    "loader = UnstructuredURLLoader(urls=urls)"
   ]
  },
  {
   "cell_type": "code",
   "execution_count": 2,
   "metadata": {},
   "outputs": [
    {
     "name": "stderr",
     "output_type": "stream",
     "text": [
      "c:\\Users\\ianng\\OneDrive\\Desktop\\data-science-projects\\langchain-equity-news-research\\.venv\\Lib\\site-packages\\magic\\magic.py:201: SyntaxWarning: \"is\" with a literal. Did you mean \"==\"?\n",
      "  if result is -1:\n"
     ]
    }
   ],
   "source": [
    "data = loader.load()"
   ]
  },
  {
   "cell_type": "code",
   "execution_count": 3,
   "metadata": {},
   "outputs": [
    {
     "data": {
      "text/plain": [
       "[Document(page_content=\"Skip Navigation\\n\\nMarkets\\n\\nPre-Markets\\n\\nU.S. Markets\\n\\nEurope Markets\\n\\nChina Markets\\n\\nAsia Markets\\n\\nWorld Markets\\n\\nCurrencies\\n\\nCryptocurrency\\n\\nFutures & Commodities\\n\\nBonds\\n\\nFunds & ETFs\\n\\nBusiness\\n\\nEconomy\\n\\nFinance\\n\\nHealth & Science\\n\\nMedia\\n\\nReal Estate\\n\\nEnergy\\n\\nClimate\\n\\nTransportation\\n\\nIndustrials\\n\\nRetail\\n\\nWealth\\n\\nSports\\n\\nLife\\n\\nSmall Business\\n\\nInvesting\\n\\nPersonal Finance\\n\\nFintech\\n\\nFinancial Advisors\\n\\nOptions Action\\n\\nETF Street\\n\\nBuffett Archive\\n\\nEarnings\\n\\nTrader Talk\\n\\nTech\\n\\nCybersecurity\\n\\nEnterprise\\n\\nInternet\\n\\nMedia\\n\\nMobile\\n\\nSocial Media\\n\\nCNBC Disruptor 50\\n\\nTech Guide\\n\\nPolitics\\n\\nWhite House\\n\\nPolicy\\n\\nDefense\\n\\nCongress\\n\\nEquity and Opportunity\\n\\nEurope Politics\\n\\nChina Politics\\n\\nAsia Politics\\n\\nWorld Politics\\n\\nCNBC TV\\n\\nLive Audio\\n\\nLatest Video\\n\\nTop Video\\n\\nCEO Interviews\\n\\nEurope TV\\n\\nAsia TV\\n\\nCNBC Podcasts\\n\\nDigital Originals\\n\\nWatchlist\\n\\nInvesting Club\\n\\nTrust Portfolio\\n\\nAnalysis\\n\\nTrade Alerts\\n\\nMeeting Videos\\n\\nHomestretch\\n\\nJim's Columns\\n\\nEducation\\n\\nSubscribe\\n\\nSign In\\n\\nPRO\\n\\nPro News\\n\\nPro Live\\n\\nFull Episodes\\n\\nStock Screener\\n\\nMarket Forecast\\n\\nOptions Investing\\n\\nChart Investing\\n\\nSubscribe\\n\\nSign In\\n\\nMenu\\n\\nMake It\\n\\nselectALL SELECTCredit Cards Loans Banking Mortgages Insurance Credit Monitoring Personal Finance Small Business Taxes Help for Low Credit Scores Investing SELECTAll Credit CardsFind the Credit Card for YouBest Credit CardsBest Rewards Credit CardsBest Travel Credit CardsBest 0% APR Credit CardsBest Balance Transfer Credit CardsBest Cash Back Credit CardsBest Credit Card Welcome BonusesBest Credit Cards to Build CreditSELECTAll LoansFind the Best Personal Loan for YouBest Personal LoansBest Debt Consolidation LoansBest Loans to Refinance Credit Card DebtBest Loans with Fast FundingBest Small Personal LoansBest Large Personal LoansBest Personal Loans to Apply OnlineBest Student Loan RefinanceSELECTAll BankingFind the Savings Account for YouBest High Yield Savings AccountsBest Big Bank Savings AccountsBest Big Bank Checking AccountsBest No Fee Checking AccountsNo Overdraft Fee Checking AccountsBest Checking Account BonusesBest Money Market AccountsBest CDsBest Credit UnionsSELECTAll MortgagesBest MortgagesBest Mortgages for Small Down PaymentBest Mortgages for No Down PaymentBest Mortgages with No Origination FeeBest Mortgages for Average Credit ScoreAdjustable Rate MortgagesAffording a MortgageSELECTAll InsuranceBest Life InsuranceBest Homeowners InsuranceBest Renters InsuranceBest Car InsuranceTravel InsuranceSELECTAll Credit MonitoringBest Credit Monitoring ServicesBest Identity Theft ProtectionHow to Boost Your Credit ScoreCredit Repair ServicesSELECTAll Personal FinanceBest Budgeting AppsBest Expense Tracker AppsBest Money Transfer AppsBest Resale Apps and SitesBuy Now Pay Later (BNPL) AppsBest Debt ReliefSELECTAll Small BusinessBest Small Business Savings AccountsBest Small Business Checking AccountsBest Credit Cards for Small BusinessBest Small Business LoansBest Tax Software for Small BusinessSELECTAll TaxesFiling For FreeBest Tax SoftwareBest Tax Software for Small BusinessesTax RefundsTax BracketsTax TipsTax By StateTax Payment PlansSELECTAll Help for Low Credit ScoresBest Credit Cards for Bad CreditBest Personal Loans for Bad CreditBest Debt Consolidation Loans for Bad CreditPersonal Loans if You Don't Have CreditBest Credit Cards for Building CreditPersonal Loans for 580 Credit Score or LowerPersonal Loans for 670 Credit Score or LowerBest Mortgages for Bad CreditBest Hardship LoansHow to Boost Your Credit ScoreSELECTAll InvestingBest IRA AccountsBest Roth IRA AccountsBest Investing AppsBest Free Stock Trading PlatformsBest Robo-AdvisorsIndex FundsMutual FundsETFsBonds\\n\\nUSA\\n\\nINTL\\n\\nSearch quotes, news & videos\\n\\nWatchlist\\n\\nSIGN IN\\n\\nMarkets\\n\\nBusiness\\n\\nInvesting\\n\\nTech\\n\\nPolitics\\n\\nCNBC TV\\n\\nWatchlist\\n\\nInvesting Club\\n\\nPRO\\n\\nMenu\\n\\nFinance\\n\\nMorgan Stanley names a head of artificial intelligence as Wall Street leans into AI\\n\\n3:20 PM EDT\\n\\nHugh Son\\n\\n@hugh_son\\n\\nWATCH LIVE\\n\\nKey Points\\n\\nMorgan Stanley promoted a tech executive in its wealth management division to become the bank's first head of firm-wide Artificial Intelligence, CNBC has learned.\\n\\nThe bank is elevating Jeff McMillan, a veteran of the New York-based bank, to help guide its implementation of AI across the firm, according to a memo sent Thursday.\\n\\nMorgan Stanley became the first major Wall Street firm to create a solution for employees based on OpenAI's GPT-4, a project overseen by McMillan.\\n\\nIn this article\\n\\nMS\\n\\nFollow your favorite stocksCREATE FREE ACCOUNT\\n\\nThe Morgan Stanley digital sign is seen at the company's Times Square headquarters in New York, U.S., on Friday, Jan. 12, 2016.\\n\\nJohn Taggart | Bloomberg | Getty Images\\n\\nMorgan Stanley promoted a tech executive in its wealth management division to become the bank's first head of firm-wide artificial intelligence, CNBC has learned.\\n\\nThe bank is elevating Jeff McMillan, a veteran of the New York-based bank, to help guide its implementation of AI across the firm, according to a memo sent Thursday from co-presidents Andy Saperstein and Dan Simkowitz.\\n\\nLast year, Morgan Stanley became the first major Wall Street firm to create a solution for employees based on OpenAI's GPT-4, a project overseen by McMillan.\\n\\nThe move shows the rising importance of artificial intelligence in financial services, sparked by the meteoric rise of generative AI tools that create human-like responses to queries.\\n\\nWhile Wall Street firms broadly pared back jobs last year, they competed to fill thousands of AI positions, poaching employees from one another.\\n\\nIn June, JPMorgan named Teresa Heitsenrether its chief data and analytics officer in charge of AI adoption. At Goldman Sachs, Chief Information Officer Marco Argenti is seen as the lead AI advocate.\\n\\nRead the full Morgan Stanley memo announcing McMillan's new role:\\n\\nWe are pleased to announce that Jeff McMillan has assumed a new position as Head of Firmwide Artificial Intelligence, co-reporting to us.\\n\\nJeff previously led Wealth Management's Analytics, Data and Innovation organization where he played a key role in driving Wealth Management's technological evolution, from our Modern Wealth Management platform to most recently our groundbreaking work with our exclusive partner, OpenAI.\\n\\nIn his new role, Jeff will coordinate across the Firm to ensure we have the appropriate AI strategy and governance in place. In doing so, he will partner with the business units and infrastructure areas to identify and prioritize AI opportunities; help position the Firm within the flow of AI development across the industry and ensure that Morgan Stanley continues to be a well-respected innovator in AI.\\n\\nTo execute on our AI strategy, Jeff will work closely Mike Pizzi, Head of U.S. Banks and Technology, Sid Visentini, Head of Firm Strategy and Katy Huberty, Head of Global Research. Katy and Jeff will co-chair the Firmwide AI Steering Group, comprised of business unit and infrastructure representatives.\\n\\nPlease join us in congratulating Jeff on his new role.\\n\\nwatch now\\n\\nVIDEO\\n\\n9:26\\n\\n09:26\\n\\nMorgan Stanley testing an OpenAI-powered chatbot\\n\\nNews Videos\\n\\n\\n\\n\\n\\n\\n\\n\\n\\n\\n\\n\\n\\n\\n\\nSubscribe to CNBC PRO\\n\\nSubscribe to Investing Club\\n\\nLicensing & Reprints\\n\\nCNBC Councils\\n\\nSupply Chain Values\\n\\nCNBC on Peacock\\n\\nJoin the CNBC Panel\\n\\nDigital Products\\n\\nNews Releases\\n\\nClosed Captioning\\n\\nCorrections\\n\\nAbout CNBC\\n\\nInternships\\n\\nSite Map\\n\\nAd Choices\\n\\nCareers\\n\\nHelp\\n\\nContact\\n\\nNews TipsGot a confidential news tip? We want to hear from you.Get In Touch\\n\\nCNBC NewslettersSign up for free newsletters and get more CNBC delivered to your inboxSign Up NowGet this delivered to your inbox, and more info about our products and services.\\n\\nAdvertise With UsPlease Contact Us\\n\\nPrivacy Policy\\n\\n\\n\\nCA Notice\\n\\nTerms of Service\\n\\n© 2024 CNBC LLC. All Rights Reserved.\\xa0A Division of NBCUniversal\\n\\nData is a real-time snapshot *Data is delayed at least 15 minutes.\\n      Global Business and Financial News, Stock Quotes, and Market Data\\n      and Analysis.\\n\\nMarket Data Terms of Use and Disclaimers\\n\\nData also provided by\", metadata={'source': 'https://www.cnbc.com/2024/03/14/morgan-stanley-names-head-of-artificial-intelligence-jeff-mcmillan.html'}),\n",
       " Document(page_content='Skip Navigation\\n\\nMarkets\\n\\nPre-Markets\\n\\nU.S. Markets\\n\\nEurope Markets\\n\\nChina Markets\\n\\nAsia Markets\\n\\nWorld Markets\\n\\nCurrencies\\n\\nCryptocurrency\\n\\nFutures & Commodities\\n\\nBonds\\n\\nFunds & ETFs\\n\\nBusiness\\n\\nEconomy\\n\\nFinance\\n\\nHealth & Science\\n\\nMedia\\n\\nReal Estate\\n\\nEnergy\\n\\nClimate\\n\\nTransportation\\n\\nIndustrials\\n\\nRetail\\n\\nWealth\\n\\nSports\\n\\nLife\\n\\nSmall Business\\n\\nInvesting\\n\\nPersonal Finance\\n\\nFintech\\n\\nFinancial Advisors\\n\\nOptions Action\\n\\nETF Street\\n\\nBuffett Archive\\n\\nEarnings\\n\\nTrader Talk\\n\\nTech\\n\\nCybersecurity\\n\\nEnterprise\\n\\nInternet\\n\\nMedia\\n\\nMobile\\n\\nSocial Media\\n\\nCNBC Disruptor 50\\n\\nTech Guide\\n\\nPolitics\\n\\nWhite House\\n\\nPolicy\\n\\nDefense\\n\\nCongress\\n\\nEquity and Opportunity\\n\\nEurope Politics\\n\\nChina Politics\\n\\nAsia Politics\\n\\nWorld Politics\\n\\nCNBC TV\\n\\nLive Audio\\n\\nLatest Video\\n\\nTop Video\\n\\nCEO Interviews\\n\\nEurope TV\\n\\nAsia TV\\n\\nCNBC Podcasts\\n\\nDigital Originals\\n\\nWatchlist\\n\\nInvesting Club\\n\\nTrust Portfolio\\n\\nAnalysis\\n\\nTrade Alerts\\n\\nMeeting Videos\\n\\nHomestretch\\n\\nJim\\'s Columns\\n\\nEducation\\n\\nSubscribe\\n\\nSign In\\n\\nPRO\\n\\nPro News\\n\\nPro Live\\n\\nFull Episodes\\n\\nStock Screener\\n\\nMarket Forecast\\n\\nOptions Investing\\n\\nChart Investing\\n\\nSubscribe\\n\\nSign In\\n\\nMenu\\n\\nMake It\\n\\nselectALL SELECTCredit Cards Loans Banking Mortgages Insurance Credit Monitoring Personal Finance Small Business Taxes Help for Low Credit Scores Investing SELECTAll Credit CardsFind the Credit Card for YouBest Credit CardsBest Rewards Credit CardsBest Travel Credit CardsBest 0% APR Credit CardsBest Balance Transfer Credit CardsBest Cash Back Credit CardsBest Credit Card Welcome BonusesBest Credit Cards to Build CreditSELECTAll LoansFind the Best Personal Loan for YouBest Personal LoansBest Debt Consolidation LoansBest Loans to Refinance Credit Card DebtBest Loans with Fast FundingBest Small Personal LoansBest Large Personal LoansBest Personal Loans to Apply OnlineBest Student Loan RefinanceSELECTAll BankingFind the Savings Account for YouBest High Yield Savings AccountsBest Big Bank Savings AccountsBest Big Bank Checking AccountsBest No Fee Checking AccountsNo Overdraft Fee Checking AccountsBest Checking Account BonusesBest Money Market AccountsBest CDsBest Credit UnionsSELECTAll MortgagesBest MortgagesBest Mortgages for Small Down PaymentBest Mortgages for No Down PaymentBest Mortgages with No Origination FeeBest Mortgages for Average Credit ScoreAdjustable Rate MortgagesAffording a MortgageSELECTAll InsuranceBest Life InsuranceBest Homeowners InsuranceBest Renters InsuranceBest Car InsuranceTravel InsuranceSELECTAll Credit MonitoringBest Credit Monitoring ServicesBest Identity Theft ProtectionHow to Boost Your Credit ScoreCredit Repair ServicesSELECTAll Personal FinanceBest Budgeting AppsBest Expense Tracker AppsBest Money Transfer AppsBest Resale Apps and SitesBuy Now Pay Later (BNPL) AppsBest Debt ReliefSELECTAll Small BusinessBest Small Business Savings AccountsBest Small Business Checking AccountsBest Credit Cards for Small BusinessBest Small Business LoansBest Tax Software for Small BusinessSELECTAll TaxesFiling For FreeBest Tax SoftwareBest Tax Software for Small BusinessesTax RefundsTax BracketsTax TipsTax By StateTax Payment PlansSELECTAll Help for Low Credit ScoresBest Credit Cards for Bad CreditBest Personal Loans for Bad CreditBest Debt Consolidation Loans for Bad CreditPersonal Loans if You Don\\'t Have CreditBest Credit Cards for Building CreditPersonal Loans for 580 Credit Score or LowerPersonal Loans for 670 Credit Score or LowerBest Mortgages for Bad CreditBest Hardship LoansHow to Boost Your Credit ScoreSELECTAll InvestingBest IRA AccountsBest Roth IRA AccountsBest Investing AppsBest Free Stock Trading PlatformsBest Robo-AdvisorsIndex FundsMutual FundsETFsBonds\\n\\nUSA\\n\\nINTL\\n\\nSearch quotes, news & videos\\n\\nWatchlist\\n\\nSIGN IN\\n\\nMarkets\\n\\nBusiness\\n\\nInvesting\\n\\nTech\\n\\nPolitics\\n\\nCNBC TV\\n\\nWatchlist\\n\\nInvesting Club\\n\\nPRO\\n\\nMenu\\n\\nChina Economy\\n\\nHSBC is \\'very positive\\' about the future of China\\'s economy, CFO says\\n\\n10:06 AM EDT\\n\\n11:58 AM EDT\\n\\nElliot Smith\\n\\n@ElliotSmithCNBC\\n\\nWATCH LIVE\\n\\nKey Points\\n\\nGrowth in China has been weighed down over the past year by a slump in the country\\'s traditional economic pillars of real estate, infrastructure and exports.\\n\\nIn response, Beijing has ramped up its efforts to bolster manufacturing and domestic tech in a bid to modernize its economy and remain globally competitive.\\n\\nIn this article\\n\\nHSBA-GB\\n\\nFollow your favorite stocksCREATE FREE ACCOUNT\\n\\nThe Hong Kong observation wheel and the HSBC building in Victoria Harbour in Hong Kong.\\n\\nUcg | Universal Images Group | Getty Images\\n\\nHSBC is \"very positive\" about the mid- to long-term outlook for the Chinese economy despite current headwinds, the British bank\\'s chief financial officer told CNBC.\\n\\nGrowth in China has been weighed down over the past year by a slump in the country\\'s traditional economic pillars of real estate, infrastructure and exports. This prompted Beijing to ramp up its efforts to bolster manufacturing and domestic tech in a bid to modernize its economy and remain globally competitive.\\n\\nSpeaking to CNBC\\'s Karen Tso on Wednesday, HSBC CFO Georges Elhedery said the lender — which is headquartered in London but does a lot of its business in Hong Kong and across the Asia-Pacific — was confident that the world\\'s second-largest economy would overcome its short-term headwinds.\\n\\n\"We\\'re looking at major economic transition, which is taking place, which gives us very strong grounds to be very positive about the medium- and long-term outlook,\" Elhedery said.\\n\\nHe suggested that China\\'s economic maturity has reached such a stage that now is the \"right time to transition into what more mature economies are.\"\\n\\nElhedery characterized this maturity as being more heavily reliant on consumers, the services industry and high-value and sustainability-driven products, such as electric vehicles and batteries, aspirations he said were evidenced by the Chinese government\\'s recent massive push toward these sectors.\\n\\nwatch now\\n\\nVIDEO\\n\\n5:30\\n\\n05:30\\n\\nVery positive about the medium and long-term outlook on China: HSBC CFO\\n\\nSquawk Box Europe\\n\\n\"That transition will mean that China will avoid falling in this middle income trap and be able to continue the growth pattern,\" he added.\\n\\n\"Some of the Western economies have gone through those transitions in the past, [and] China is going through a transition today. That gives us a lot of positive outlook for the medium- to long-term for China.\"\\n\\nThe more immediate economic challenges may last \"a few quarters to a couple of years,\" Elhedery said, but expressed confidence that China will be in a better position for the long run, as the country puts itself on a \"materially better forward-looking track.\"\\n\\nHSBC missed its full-year 2023 pretax profit forecasts on the back of a $3 billion write-down on its 19% stake in China\\'s Bank of Communications, while the lender cut its overall exposure to Chinese commercial real estate by $4.6 billion year on year.\\n\\nYet, Elhedery on Thursday insisted that most of the challenges related to the ailing Chinese property market were \"behind us,\" even as he said the sector is not \"out of the woods\" so far.\\n\\n\"We think the trough of that sector is behind us. We think in our case, our exposure and our ECL (expected credit losses) covers the bulk of the charges behind us, but that still means there will be lingering effects as the sector continues to adjust, and we may continue to see some impact but not to the tune that we\\'ve seen last year on our credit charges,\" he said.\\n\\n\\n\\n\\n\\n\\n\\n\\n\\n\\n\\n\\n\\n\\n\\nSubscribe to CNBC PRO\\n\\nSubscribe to Investing Club\\n\\nLicensing & Reprints\\n\\nCNBC Councils\\n\\nSupply Chain Values\\n\\nCNBC on Peacock\\n\\nJoin the CNBC Panel\\n\\nDigital Products\\n\\nNews Releases\\n\\nClosed Captioning\\n\\nCorrections\\n\\nAbout CNBC\\n\\nInternships\\n\\nSite Map\\n\\nAd Choices\\n\\nCareers\\n\\nHelp\\n\\nContact\\n\\nNews TipsGot a confidential news tip? We want to hear from you.Get In Touch\\n\\nCNBC NewslettersSign up for free newsletters and get more CNBC delivered to your inboxSign Up NowGet this delivered to your inbox, and more info about our products and services.\\n\\nAdvertise With UsPlease Contact Us\\n\\nPrivacy Policy\\n\\n\\n\\nCA Notice\\n\\nTerms of Service\\n\\n© 2024 CNBC LLC. All Rights Reserved.\\xa0A Division of NBCUniversal\\n\\nData is a real-time snapshot *Data is delayed at least 15 minutes.\\n      Global Business and Financial News, Stock Quotes, and Market Data\\n      and Analysis.\\n\\nMarket Data Terms of Use and Disclaimers\\n\\nData also provided by', metadata={'source': 'https://www.cnbc.com/2024/03/14/hsbc-is-very-positive-about-the-future-of-chinas-economy-cfo-says.html'})]"
      ]
     },
     "execution_count": 3,
     "metadata": {},
     "output_type": "execute_result"
    }
   ],
   "source": [
    "data"
   ]
  },
  {
   "cell_type": "code",
   "execution_count": 8,
   "metadata": {},
   "outputs": [],
   "source": [
    "text = \"\"\"\n",
    "Interstellar is a 2014 epic science fiction film co-written, directed, and produced by Christopher Nolan. It stars Matthew McConaughey, Anne Hathaway, Jessica Chastain, Bill Irwin, Ellen Burstyn, Michael Caine, and Matt Damon.\n",
    "Set in a dystopian future where humanity is embroiled in a catastrophic blight and famine, the film follows a group of astronauts who travel through a wormhole near Saturn in search of a new home for humankind.\n",
    "\n",
    "Brothers Christopher and Jonathan Nolan wrote the screenplay, which had its origins in a script Jonathan developed in 2007 and was originally set to be directed by Steven Spielberg.\n",
    "Kip Thorne, a Caltech theoretical physicist and 2017 Nobel laureate in Physics, was an executive producer, acted as a scientific consultant, and wrote a tie-in book, The Science of Interstellar.\n",
    "Cinematographer Hoyte van Hoytema shot it on 35 mm movie film in the Panavision anamorphic format and IMAX 70 mm. Principal photography began in late 2013 and took place in Alberta, Iceland, and Los Angeles.\n",
    "Interstellar uses extensive practical and miniature effects, and the company Double Negative created additional digital effects.\n",
    "\n",
    "Interstellar premiered in Los Angeles on October 26, 2014. In the United States, it was first released on film stock, expanding to venues using digital projectors.\n",
    "The film received positive reviews from critics and grossed over $681 million worldwide ($703 million after subsequent re-releases), making it the tenth-highest-grossing film of 2014. It has been praised by astronomers for its scientific accuracy and portrayal of theoretical astrophysics.\n",
    "Interstellar was nominated for five awards at the 87th Academy Awards, winning Best Visual Effects, and received numerous other accolades.\n",
    "\"\"\""
   ]
  },
  {
   "cell_type": "code",
   "execution_count": 9,
   "metadata": {},
   "outputs": [
    {
     "name": "stderr",
     "output_type": "stream",
     "text": [
      "Created a chunk of size 226, which is longer than the specified 200\n",
      "Created a chunk of size 210, which is longer than the specified 200\n",
      "Created a chunk of size 207, which is longer than the specified 200\n",
      "Created a chunk of size 289, which is longer than the specified 200\n"
     ]
    }
   ],
   "source": [
    "from langchain.text_splitter import CharacterTextSplitter\n",
    "\n",
    "splitter = CharacterTextSplitter(\n",
    "    separator=\"\\n\",\n",
    "    chunk_size=200,\n",
    "    chunk_overlap=0\n",
    ")\n",
    "chunks = splitter.split_text(text)"
   ]
  },
  {
   "cell_type": "code",
   "execution_count": 10,
   "metadata": {},
   "outputs": [
    {
     "data": {
      "text/plain": [
       "9"
      ]
     },
     "execution_count": 10,
     "metadata": {},
     "output_type": "execute_result"
    }
   ],
   "source": [
    "len(chunks)"
   ]
  },
  {
   "cell_type": "code",
   "execution_count": 11,
   "metadata": {},
   "outputs": [
    {
     "name": "stdout",
     "output_type": "stream",
     "text": [
      "226\n",
      "210\n",
      "181\n",
      "194\n",
      "207\n",
      "128\n",
      "163\n",
      "289\n",
      "138\n"
     ]
    }
   ],
   "source": [
    "for c in chunks:\n",
    "    print(len(c))"
   ]
  },
  {
   "cell_type": "code",
   "execution_count": null,
   "metadata": {},
   "outputs": [],
   "source": [
    "from langchain.text_splitter import RecursiveCharacterTextSplitter\n",
    "\n"
   ]
  }
 ],
 "metadata": {
  "kernelspec": {
   "display_name": ".venv",
   "language": "python",
   "name": "python3"
  },
  "language_info": {
   "codemirror_mode": {
    "name": "ipython",
    "version": 3
   },
   "file_extension": ".py",
   "mimetype": "text/x-python",
   "name": "python",
   "nbconvert_exporter": "python",
   "pygments_lexer": "ipython3",
   "version": "3.11.7"
  }
 },
 "nbformat": 4,
 "nbformat_minor": 2
}
